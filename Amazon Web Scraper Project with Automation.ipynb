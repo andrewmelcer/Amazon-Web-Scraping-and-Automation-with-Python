{
 "cells": [
  {
   "cell_type": "code",
   "execution_count": 1,
   "id": "c43e31c3",
   "metadata": {},
   "outputs": [],
   "source": [
    "#import library\n",
    "\n",
    "from bs4 import BeautifulSoup\n",
    "import requests\n",
    "import smtplib\n",
    "import time\n",
    "import datetime"
   ]
  },
  {
   "cell_type": "code",
   "execution_count": 97,
   "id": "c47d534e",
   "metadata": {},
   "outputs": [],
   "source": [
    "# connect to website \n",
    "# connect to headers\n",
    "\n",
    "URL = 'https://www.amazon.com/Funny-Data-Systems-Business-Analyst/dp/B07FNW9FGJ/ref=sr_1_1?crid=173S0LFXZAY56&keywords=data%2Banalyst%2Btshirt%2Bgot%2Bdata&qid=1646654028&sprefix=data%2Banalyst%2Btshirt%2Bgot%2Bdata%2Caps%2C128&sr=8-1&customId=B0752XJYNL&th=1'\n",
    "\n",
    "headers = {\"User-Agent\": \"Mozilla/5.0 (Macintosh; Intel Mac OS X 10_15_7) AppleWebKit/537.36 (KHTML, like Gecko) Chrome/98.0.4758.109 Safari/537.36\", \"X-Amzn-Trace-Id\": \"Root=1-6225f280-56e19a051995f24706495d2a\"}\n",
    "\n",
    "\n",
    "page = requests.get(URL, headers=headers)\n",
    "\n",
    "soup1=BeautifulSoup(page.content,\"html.parser\")\n",
    "\n",
    "soup2=BeautifulSoup(soup1.prettify(), \"html.parser\")\n",
    "\n",
    "#print(soup2)\n",
    "\n",
    "\n"
   ]
  },
  {
   "cell_type": "code",
   "execution_count": 72,
   "id": "2450d5ca",
   "metadata": {},
   "outputs": [
    {
     "name": "stdout",
     "output_type": "stream",
     "text": [
      "\n",
      "                   Funny Got Data MIS Data Systems Business Analyst T-Shirt\n",
      "                  \n"
     ]
    }
   ],
   "source": [
    "# scrap title\n",
    "\n",
    "title = soup2.find(id = 'productTitle').get_text()\n",
    "\n",
    "print(title)\n"
   ]
  },
  {
   "cell_type": "code",
   "execution_count": 62,
   "id": "d00691c5",
   "metadata": {},
   "outputs": [
    {
     "name": "stdout",
     "output_type": "stream",
     "text": [
      "\n",
      "                    $16.99\n",
      "                   \n"
     ]
    }
   ],
   "source": [
    "# scrap price\n",
    "\n",
    "lists = soup2.find_all('span', class_=\"a-size-medium a-color-price\")\n",
    "price = (lists[0].string)\n",
    "\n",
    "print(price)\n"
   ]
  },
  {
   "cell_type": "code",
   "execution_count": 63,
   "id": "afa68a94",
   "metadata": {},
   "outputs": [
    {
     "name": "stdout",
     "output_type": "stream",
     "text": [
      "\n",
      "                   Funny Got Data MIS Data Systems Business Analyst T-Shirt\n",
      "                  \n",
      "\n",
      "                    $16.99\n",
      "                   \n"
     ]
    }
   ],
   "source": [
    "# check that both are correct\n",
    "print(title)\n",
    "print(price)"
   ]
  },
  {
   "cell_type": "code",
   "execution_count": 66,
   "id": "eae27a89",
   "metadata": {},
   "outputs": [
    {
     "data": {
      "text/plain": [
       "'16.99'"
      ]
     },
     "execution_count": 66,
     "metadata": {},
     "output_type": "execute_result"
    }
   ],
   "source": [
    "# get rid of the money sign\n",
    "price.strip()[1:]"
   ]
  },
  {
   "cell_type": "code",
   "execution_count": 67,
   "id": "0e1ff28a",
   "metadata": {},
   "outputs": [
    {
     "name": "stdout",
     "output_type": "stream",
     "text": [
      "16.99\n"
     ]
    }
   ],
   "source": [
    "# update price and title\n",
    "price=price.strip()[1:]\n",
    "print(price)"
   ]
  },
  {
   "cell_type": "code",
   "execution_count": 73,
   "id": "4d0a5602",
   "metadata": {},
   "outputs": [
    {
     "data": {
      "text/plain": [
       "'Funny Got Data MIS Data Systems Business Analyst T-Shirt'"
      ]
     },
     "execution_count": 73,
     "metadata": {},
     "output_type": "execute_result"
    }
   ],
   "source": [
    "title.strip()"
   ]
  },
  {
   "cell_type": "code",
   "execution_count": 74,
   "id": "ce82c9e3",
   "metadata": {},
   "outputs": [],
   "source": [
    "title=title.strip()"
   ]
  },
  {
   "cell_type": "code",
   "execution_count": 75,
   "id": "524d81f4",
   "metadata": {},
   "outputs": [
    {
     "name": "stdout",
     "output_type": "stream",
     "text": [
      "Funny Got Data MIS Data Systems Business Analyst T-Shirt\n",
      "16.99\n"
     ]
    }
   ],
   "source": [
    "print(title)\n",
    "print(price)"
   ]
  },
  {
   "cell_type": "code",
   "execution_count": 78,
   "id": "9d0ef9a9",
   "metadata": {},
   "outputs": [],
   "source": [
    "#create new csv file with newly scraped data\n",
    "import csv\n",
    "\n",
    "header = ['Title', 'Price']\n",
    "data = [title, price]\n",
    "\n",
    "with open('AmazonWebScrapingDataset.csv','w',newline='',encoding='UTF8') as f:\n",
    "    writer = csv.writer(f)\n",
    "    writer.writerow(header)\n",
    "    writer.writerow(data)"
   ]
  },
  {
   "cell_type": "code",
   "execution_count": 79,
   "id": "742187c1",
   "metadata": {},
   "outputs": [
    {
     "name": "stdout",
     "output_type": "stream",
     "text": [
      "2022-03-07\n"
     ]
    }
   ],
   "source": [
    "# add data to the new csv file\n",
    "import datetime\n",
    "today = datetime.date.today()\n",
    "print(today)"
   ]
  },
  {
   "cell_type": "code",
   "execution_count": 80,
   "id": "9a346765",
   "metadata": {},
   "outputs": [],
   "source": [
    "import csv\n",
    "\n",
    "header = ['Title', 'Price','Date']\n",
    "data = [title, price, today]\n",
    "\n",
    "with open('AmazonWebScrapingDataset.csv','w',newline='',encoding='UTF8') as f:\n",
    "    writer = csv.writer(f)\n",
    "    writer.writerow(header)\n",
    "    writer.writerow(data)"
   ]
  },
  {
   "cell_type": "code",
   "execution_count": 90,
   "id": "a21482b0",
   "metadata": {},
   "outputs": [
    {
     "name": "stdout",
     "output_type": "stream",
     "text": [
      "                                               Title  Price        Date\n",
      "0  Funny Got Data MIS Data Systems Business Analy...  16.99  2022-03-07\n",
      "1  Funny Got Data MIS Data Systems Business Analy...  16.99  2022-03-07\n",
      "2  Funny Got Data MIS Data Systems Business Analy...  16.99  2022-03-07\n",
      "3  Funny Got Data MIS Data Systems Business Analy...  16.99  2022-03-07\n",
      "4  Funny Got Data MIS Data Systems Business Analy...  16.99  2022-03-07\n",
      "5  Funny Got Data MIS Data Systems Business Analy...  16.99  2022-03-07\n",
      "6  Funny Got Data MIS Data Systems Business Analy...  16.99  2022-03-07\n",
      "7  Funny Got Data MIS Data Systems Business Analy...  16.99  2022-03-07\n"
     ]
    }
   ],
   "source": [
    "# check to see if data has updated\n",
    "\n",
    "import pandas as pd\n",
    "\n",
    "df = pd.read_csv('/Users/andrewmelcer/AmazonWebScrapingDataset.csv')\n",
    "\n",
    "print(df)"
   ]
  },
  {
   "cell_type": "code",
   "execution_count": 89,
   "id": "3d78b7d0",
   "metadata": {},
   "outputs": [],
   "source": [
    "# append data in the newly created dataframe\n",
    "\n",
    "with open('AmazonWebScrapingDataset.csv','a+',newline='',encoding='UTF8') as f:\n",
    "    writer = csv.writer(f)\n",
    "    writer.writerow(data)\n",
    "    \n"
   ]
  },
  {
   "cell_type": "code",
   "execution_count": 91,
   "id": "d62e8338",
   "metadata": {},
   "outputs": [],
   "source": [
    "#define function check_price with the code written above \n",
    "\n",
    "def check_price():\n",
    "    URL = 'https://www.amazon.com/Funny-Data-Systems-Business-Analyst/dp/B07FNW9FGJ/ref=sr_1_1?crid=173S0LFXZAY56&keywords=data%2Banalyst%2Btshirt%2Bgot%2Bdata&qid=1646654028&sprefix=data%2Banalyst%2Btshirt%2Bgot%2Bdata%2Caps%2C128&sr=8-1&customId=B0752XJYNL&th=1'\n",
    "\n",
    "    headers = {\"User-Agent\": \"Mozilla/5.0 (Macintosh; Intel Mac OS X 10_15_7) AppleWebKit/537.36 (KHTML, like Gecko) Chrome/98.0.4758.109 Safari/537.36\", \"X-Amzn-Trace-Id\": \"Root=1-6225f280-56e19a051995f24706495d2a\"}\n",
    "\n",
    "    page = requests.get(URL, headers=headers)\n",
    "\n",
    "    soup1=BeautifulSoup(page.content,\"html.parser\")\n",
    "\n",
    "    soup2=BeautifulSoup(soup1.prettify(), \"html.parser\")\n",
    "\n",
    "    title = soup2.find(id = 'productTitle').get_text()\n",
    "    \n",
    "    lists = soup2.find_all('span', class_=\"a-size-medium a-color-price\")\n",
    "    price = (lists[0].string)\n",
    "    \n",
    "    title=title.strip()\n",
    "    price=price.strip()[1:]\n",
    "    \n",
    "    import datetime\n",
    "    \n",
    "    today = datetime.date.today()\n",
    "    \n",
    "    import csv\n",
    "\n",
    "    header = ['Title', 'Price','Date']\n",
    "    data = [title, price, today]\n",
    "    \n",
    "    with open('AmazonWebScrapingDataset.csv','a+',newline='',encoding='UTF8') as f:\n",
    "        writer = csv.writer(f)\n",
    "        writer.writerow(data)"
   ]
  },
  {
   "cell_type": "code",
   "execution_count": 96,
   "id": "a236bbdb",
   "metadata": {},
   "outputs": [],
   "source": [
    "#Create automated While loop to check every 24 hours\n",
    "\n",
    "while(True):\n",
    "    check_price()\n",
    "    time.sleep(86400)"
   ]
  },
  {
   "cell_type": "code",
   "execution_count": 94,
   "id": "d26119fd",
   "metadata": {},
   "outputs": [
    {
     "name": "stdout",
     "output_type": "stream",
     "text": [
      "                                                Title  Price        Date\n",
      "0   Funny Got Data MIS Data Systems Business Analy...  16.99  2022-03-07\n",
      "1   Funny Got Data MIS Data Systems Business Analy...  16.99  2022-03-07\n",
      "2   Funny Got Data MIS Data Systems Business Analy...  16.99  2022-03-07\n",
      "3   Funny Got Data MIS Data Systems Business Analy...  16.99  2022-03-07\n",
      "4   Funny Got Data MIS Data Systems Business Analy...  16.99  2022-03-07\n",
      "5   Funny Got Data MIS Data Systems Business Analy...  16.99  2022-03-07\n",
      "6   Funny Got Data MIS Data Systems Business Analy...  16.99  2022-03-07\n",
      "7   Funny Got Data MIS Data Systems Business Analy...  16.99  2022-03-07\n",
      "8   Funny Got Data MIS Data Systems Business Analy...  15.95  2022-03-07\n",
      "9   Funny Got Data MIS Data Systems Business Analy...  16.99  2022-03-07\n",
      "10  Funny Got Data MIS Data Systems Business Analy...  16.99  2022-03-07\n",
      "11  Funny Got Data MIS Data Systems Business Analy...  16.99  2022-03-07\n"
     ]
    }
   ],
   "source": [
    "import pandas as pd\n",
    "\n",
    "df = pd.read_csv('/Users/andrewmelcer/AmazonWebScrapingDataset.csv')\n",
    "\n",
    "print(df)"
   ]
  },
  {
   "cell_type": "code",
   "execution_count": null,
   "id": "0a3d30c6",
   "metadata": {},
   "outputs": [],
   "source": []
  }
 ],
 "metadata": {
  "kernelspec": {
   "display_name": "Python 3 (ipykernel)",
   "language": "python",
   "name": "python3"
  },
  "language_info": {
   "codemirror_mode": {
    "name": "ipython",
    "version": 3
   },
   "file_extension": ".py",
   "mimetype": "text/x-python",
   "name": "python",
   "nbconvert_exporter": "python",
   "pygments_lexer": "ipython3",
   "version": "3.9.7"
  }
 },
 "nbformat": 4,
 "nbformat_minor": 5
}
